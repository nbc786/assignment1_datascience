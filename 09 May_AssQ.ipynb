{
 "cells": [
  {
   "cell_type": "markdown",
   "id": "5c6e0309-ff0a-4cf6-83da-c61f3c6880a9",
   "metadata": {},
   "source": [
    "Q.1\n",
    "Here we are creating by having one variable containg the given type of data as given : string ,list,float,tuple. It can only be achieved by using list types function or data types to hold in one variable. By list function it's helps to having multiple data types in one variable.By the below examples and its following data types ."
   ]
  },
  {
   "cell_type": "code",
   "execution_count": 77,
   "id": "20f17342-fd08-4139-96f2-837cf9956bfb",
   "metadata": {},
   "outputs": [
    {
     "name": "stdout",
     "output_type": "stream",
     "text": [
      "nishant <class 'str'>\n",
      "[1, 2, 3] <class 'list'>\n",
      "18 <class 'int'>\n",
      "9.8 <class 'float'>\n",
      "('hello', 2.5, 2) <class 'tuple'>\n"
     ]
    }
   ],
   "source": [
    "#for example 1 \n",
    "variable = [\"nishant\" , [1,2,3],18,9.8,(\"hello\",2.5,2)]\n",
    "for i in variable :\n",
    "    print(i,type(i))"
   ]
  },
  {
   "cell_type": "code",
   "execution_count": 76,
   "id": "60a18219-8eab-43e2-80f8-72d394e17021",
   "metadata": {},
   "outputs": [
    {
     "name": "stdout",
     "output_type": "stream",
     "text": [
      "nishant <class 'str'>\n",
      "[1, 2, 3] <class 'list'>\n",
      "9.8 <class 'float'>\n",
      "('hello', 2.5, 2) <class 'tuple'>\n"
     ]
    }
   ],
   "source": [
    "#for example 2\n",
    "list = (\"nishant\",[1,2,3],9.8,(\"hello\",2.5,2))\n",
    "for i in list :\n",
    "        print(i,type(i))"
   ]
  },
  {
   "cell_type": "markdown",
   "id": "dc61a08e-57a8-43b5-a4d6-0a95fe00f37b",
   "metadata": {},
   "source": [
    "Q.2\n",
    "In the following problem with the given and\n",
    "respective variable , we can get the data type by using \"type(respective variable)\" for getting the variable data type. \n"
   ]
  },
  {
   "cell_type": "markdown",
   "id": "d1883cb3-eeff-4490-ae62-2c6496ae9788",
   "metadata": {},
   "source": [
    "for \n",
    "(i) var1 = ''"
   ]
  },
  {
   "cell_type": "code",
   "execution_count": 78,
   "id": "8a4c6082-d14c-43c7-81be-8ffa53aeca60",
   "metadata": {},
   "outputs": [
    {
     "data": {
      "text/plain": [
       "str"
      ]
     },
     "execution_count": 78,
     "metadata": {},
     "output_type": "execute_result"
    }
   ],
   "source": [
    "var1 = ''\n",
    "type(var1)"
   ]
  },
  {
   "cell_type": "markdown",
   "id": "df673976-f48c-49dc-b741-f3943ac53148",
   "metadata": {},
   "source": [
    "for \n",
    "(ii) var2 = '[ DS, ML,Python]'"
   ]
  },
  {
   "cell_type": "code",
   "execution_count": 79,
   "id": "18d1bce0-1a6d-46a3-b071-002f639ea134",
   "metadata": {},
   "outputs": [
    {
     "data": {
      "text/plain": [
       "str"
      ]
     },
     "execution_count": 79,
     "metadata": {},
     "output_type": "execute_result"
    }
   ],
   "source": [
    "var2 = '[ DS, ML,Python]'\n",
    "type(var2)"
   ]
  },
  {
   "cell_type": "markdown",
   "id": "33f885bc-eef4-440c-a650-fed062af6a19",
   "metadata": {},
   "source": [
    "for \n",
    "(iii) var3 =['DS','ML','Python']"
   ]
  },
  {
   "cell_type": "code",
   "execution_count": 80,
   "id": "af76f2ed-6573-4dc2-957a-e52e1d2f6b7a",
   "metadata": {},
   "outputs": [
    {
     "data": {
      "text/plain": [
       "list"
      ]
     },
     "execution_count": 80,
     "metadata": {},
     "output_type": "execute_result"
    }
   ],
   "source": [
    "var3 =['DS','ML','Python']\n",
    "type(var3)"
   ]
  },
  {
   "cell_type": "markdown",
   "id": "aeb2f891-2e89-4d54-9266-fae043ed06b1",
   "metadata": {},
   "source": [
    "for\n",
    "(iv) var4 =1."
   ]
  },
  {
   "cell_type": "code",
   "execution_count": 81,
   "id": "9005c3cd-ec4c-4ab0-97b2-fe529776e443",
   "metadata": {},
   "outputs": [
    {
     "name": "stdout",
     "output_type": "stream",
     "text": [
      "<class 'float'>\n"
     ]
    }
   ],
   "source": [
    "var4 =1.\n",
    "print(type(var4))"
   ]
  },
  {
   "cell_type": "markdown",
   "id": "3c61c85c-95cc-4bb8-8fa3-d67d69670a6f",
   "metadata": {},
   "source": [
    "Q.3\n",
    "(i)/\n",
    "'/' is used in python and in many other programming languages in form of operator to perform operation of division .It is normally used between two numbers which may be integer or float , but the answer/result  will always be in float format."
   ]
  },
  {
   "cell_type": "code",
   "execution_count": 84,
   "id": "436e7497-78d7-4710-baca-7c7a5f36e6e8",
   "metadata": {},
   "outputs": [
    {
     "data": {
      "text/plain": [
       "5.0"
      ]
     },
     "execution_count": 84,
     "metadata": {},
     "output_type": "execute_result"
    }
   ],
   "source": [
    "#for example in integer format , which results in float value\n",
    "10/2"
   ]
  },
  {
   "cell_type": "code",
   "execution_count": 85,
   "id": "1559c482-9c4d-4ae8-907c-644797e8f962",
   "metadata": {},
   "outputs": [
    {
     "data": {
      "text/plain": [
       "5.0"
      ]
     },
     "execution_count": 85,
     "metadata": {},
     "output_type": "execute_result"
    }
   ],
   "source": [
    "#similarly example directly in float format\n",
    "10.0/2.0"
   ]
  },
  {
   "cell_type": "markdown",
   "id": "7301cf3f-ea99-4424-b1ce-0fe7be006f1e",
   "metadata": {},
   "source": [
    "(ii)%\n",
    "'%' is a type of operator used in python and many other programing languages for getting the remainder between the dividend and the divisor.The main cause is to get the remaining value of dividend ,while dividing by the divisor."
   ]
  },
  {
   "cell_type": "code",
   "execution_count": 1,
   "id": "b3b9e659-f323-48f3-ba13-680c5962e5db",
   "metadata": {},
   "outputs": [
    {
     "data": {
      "text/plain": [
       "2"
      ]
     },
     "execution_count": 1,
     "metadata": {},
     "output_type": "execute_result"
    }
   ],
   "source": [
    "#examples for generating the remainder from the divisor while dividing from the divisor\n",
    "5%3"
   ]
  },
  {
   "cell_type": "markdown",
   "id": "e4c990ab-4ab8-449e-bd37-c5d01b826064",
   "metadata": {},
   "source": [
    "(iii)//\n",
    "'//' this is a type of operator which is mostly used in python languages comparing to remaining other languages.Here the main objective of the '//' is to find the floor value of dividend after dividing by the divisor.It's main works is to find the top value of the upcoming result from decimal (continue) case like 2.333... , so here the  total round off you can say is 2."
   ]
  },
  {
   "cell_type": "code",
   "execution_count": 3,
   "id": "1b0bd2bf-cd2d-4c66-90d2-fd6af4096c70",
   "metadata": {},
   "outputs": [
    {
     "data": {
      "text/plain": [
       "3"
      ]
     },
     "execution_count": 3,
     "metadata": {},
     "output_type": "execute_result"
    }
   ],
   "source": [
    "#examples for floor operator\n",
    "10//3"
   ]
  },
  {
   "cell_type": "markdown",
   "id": "ac7a3d6d-e4d2-48e2-b028-c7b6fad961b4",
   "metadata": {},
   "source": [
    "(iv)**\n",
    "'**' is a kind of operator in python to perform the power of function ,so that the first operand keeps on multiply to itself upto the counts of multiplication to itself did not reach the second operand value."
   ]
  },
  {
   "cell_type": "code",
   "execution_count": 4,
   "id": "4e945301-c01a-4b20-bb35-7c8f1ee6c919",
   "metadata": {},
   "outputs": [
    {
     "data": {
      "text/plain": [
       "8"
      ]
     },
     "execution_count": 4,
     "metadata": {},
     "output_type": "execute_result"
    }
   ],
   "source": [
    "#here is the examples for ** operation \n",
    "2**3"
   ]
  },
  {
   "cell_type": "markdown",
   "id": "a9347536-7b87-4215-97c4-c65e576cf078",
   "metadata": {},
   "source": [
    "Q.4\n",
    "The below program is to have a list containing multiple different types of data with length 10 of that list.For function in list is to go through each elements in that list and perform some certain action .By using for loop function ,here we are going to print the elements and it's respective data types.\n"
   ]
  },
  {
   "cell_type": "code",
   "execution_count": 70,
   "id": "50f0994f-5490-4641-85c2-a2d532528216",
   "metadata": {},
   "outputs": [
    {
     "name": "stdout",
     "output_type": "stream",
     "text": [
      "1  is of type <class 'int'>\n",
      "2.0  is of type <class 'float'>\n",
      "str  is of type <class 'str'>\n",
      "True  is of type <class 'bool'>\n",
      "(1, 2, 3)  is of type <class 'tuple'>\n",
      "{}  is of type <class 'dict'>\n",
      "{1, 2, 3}  is of type <class 'set'>\n",
      "frozenset({1, 2, 3})  is of type <class 'frozenset'>\n",
      "[1, 2, 3, 4, 5]  is of type <class 'list'>\n",
      "None  is of type <class 'NoneType'>\n",
      "range(1, 10)  is of type <class 'range'>\n"
     ]
    }
   ],
   "source": [
    "list = [1,2.0,'str',True,(1,2,3), {},{1,2,3},frozenset({1,2,3}),[1,2,3,4,5],None,range(1,10)]\n",
    "for i in list:\n",
    "    print(i ,\" is of type\", type(i))"
   ]
  },
  {
   "cell_type": "markdown",
   "id": "fb8ef33f-75c3-4108-ab1e-1b5b17d7e0b3",
   "metadata": {},
   "source": [
    "Q.5\n",
    "The below program is to take the user input value for both number A as dividend and number B so that to check how many times the A value can be divisible by B .If the remainder will come while dividing ,it will stop the dividing process and gives the count previous or the last time count value for accessing the how many times it can be divisible."
   ]
  },
  {
   "cell_type": "code",
   "execution_count": 6,
   "id": "fdc10727-2d3b-4e09-ae1f-902ae433cd2e",
   "metadata": {},
   "outputs": [
    {
     "name": "stdin",
     "output_type": "stream",
     "text": [
      "Enter the value for A : 27\n",
      "Enter the value for B : 5\n"
     ]
    },
    {
     "name": "stdout",
     "output_type": "stream",
     "text": [
      "0\n"
     ]
    }
   ],
   "source": [
    "A =int(input(\"Enter the value for A :\"))\n",
    "B =int(input(\"Enter the value for B :\"))\n",
    "count = 0 \n",
    "while A%B==0 :\n",
    "    A = A/B\n",
    "    count = count+1\n",
    "print(count)"
   ]
  },
  {
   "cell_type": "markdown",
   "id": "8c6b6fe7-c856-40ac-a67e-08f79cc7853a",
   "metadata": {},
   "source": [
    "Q.6\n",
    "The below program is made by having 25 int type data in one list ,by using for loop for going to each element present in list and if-else condition to mark check whether it is divisible by 3 or not."
   ]
  },
  {
   "cell_type": "code",
   "execution_count": 7,
   "id": "156bdd4a-013c-48c9-8be4-db0c290fd788",
   "metadata": {},
   "outputs": [
    {
     "name": "stdout",
     "output_type": "stream",
     "text": [
      "2 is not divisible by 3\n",
      "3 is divisble by 3\n",
      "23 is not divisible by 3\n",
      "22 is not divisible by 3\n",
      "24 is divisble by 3\n",
      "12 is divisble by 3\n",
      "15 is divisble by 3\n",
      "45 is divisble by 3\n",
      "30 is divisble by 3\n",
      "31 is not divisible by 3\n",
      "6 is divisble by 3\n",
      "7 is not divisible by 3\n",
      "46 is not divisible by 3\n",
      "47 is not divisible by 3\n",
      "48 is divisble by 3\n",
      "76 is not divisible by 3\n",
      "67 is not divisible by 3\n",
      "56 is not divisible by 3\n",
      "88 is not divisible by 3\n",
      "96 is divisble by 3\n",
      "94 is not divisible by 3\n",
      "112 is not divisible by 3\n",
      "21 is divisble by 3\n",
      "46 is not divisible by 3\n",
      "74 is not divisible by 3\n"
     ]
    }
   ],
   "source": [
    "list = [2,3,23,22,24,12,15,45,30,31,6,7,46,47,48,76,67,56,88,96,94,112,21,46,74]\n",
    "for i in list:\n",
    "    if i%3 == 0 :\n",
    "        print(f\"{i} is divisble by 3\")\n",
    "    else :\n",
    "        print(f\"{i} is not divisible by 3\")    "
   ]
  },
  {
   "cell_type": "markdown",
   "id": "4f57f2a9-60e2-499a-92c1-e4c073b12700",
   "metadata": {},
   "source": [
    "Q.7\n",
    "By the term mutable or immutable is that the particular data type can be changed or not after once it got created.The word mutable having a word called 'mutation' , which means once after it got created is it still able to mutate/upgrade or not.\n",
    "A data type is said to be mutable if after creating that particular data is it further able to change the data contain in that respective variable. For example : list, float,int, dictionary, set,  complex having variable are the following examples in which once after creating a variable having a changeable data types further is able to mutable data-types.\n",
    "A data type is said to be immutable if after creating the particular data is further not able to change/upgrade the data contain in that respective variable. For example : frozen set, tuple, range having variable are the following examples in which once after creating a variable having a nonchangeable data further is know as immutable data-types.The best form of immutable data types is when a variable having a constant word before its variable name ,for example constant a : where variable a can contain any data types but after it got created it cannot take any changes further.Like wise a count variable which needs a upgradation in any kind loop function ,but if we writes constant before the count variable name ;now it is not able to change/upgrade or the count variable is not a counter anymore."
   ]
  }
 ],
 "metadata": {
  "kernelspec": {
   "display_name": "Python 3 (ipykernel)",
   "language": "python",
   "name": "python3"
  },
  "language_info": {
   "codemirror_mode": {
    "name": "ipython",
    "version": 3
   },
   "file_extension": ".py",
   "mimetype": "text/x-python",
   "name": "python",
   "nbconvert_exporter": "python",
   "pygments_lexer": "ipython3",
   "version": "3.10.8"
  }
 },
 "nbformat": 4,
 "nbformat_minor": 5
}
